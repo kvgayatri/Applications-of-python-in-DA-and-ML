{
  "nbformat": 4,
  "nbformat_minor": 0,
  "metadata": {
    "colab": {
      "name": "Untitled6.ipynb",
      "provenance": [],
      "authorship_tag": "ABX9TyN7gIw1u7ypIMc19VNJ/xoE",
      "include_colab_link": true
    },
    "kernelspec": {
      "name": "python3",
      "display_name": "Python 3"
    }
  },
  "cells": [
    {
      "cell_type": "markdown",
      "metadata": {
        "id": "view-in-github",
        "colab_type": "text"
      },
      "source": [
        "<a href=\"https://colab.research.google.com/github/kvgayatri/Applications-of-python-in-DA-and-ML/blob/master/Day2_session1_Examples_programs.ipynb\" target=\"_parent\"><img src=\"https://colab.research.google.com/assets/colab-badge.svg\" alt=\"Open In Colab\"/></a>"
      ]
    },
    {
      "cell_type": "markdown",
      "metadata": {
        "id": "f4GstDhnSxr2",
        "colab_type": "text"
      },
      "source": [
        "\n",
        "List examples\n",
        "\n",
        "Program to find the largest number in a list."
      ]
    },
    {
      "cell_type": "code",
      "metadata": {
        "id": "pfMap50vSzE_",
        "colab_type": "code",
        "colab": {
          "base_uri": "https://localhost:8080/",
          "height": 153
        },
        "outputId": "84fc5d65-d237-4226-9135-8f06dffb4c00"
      },
      "source": [
        "x=0\n",
        "print('The greatest no is',max([int(input(x)) for i in range(int(input(\"Enter n\")))]))"
      ],
      "execution_count": 2,
      "outputs": [
        {
          "output_type": "stream",
          "text": [
            "Enter n6\n",
            "4\n",
            "5\n",
            "6\n",
            "3\n",
            "2\n",
            "1\n",
            "The greatest no is 6\n"
          ],
          "name": "stdout"
        }
      ]
    },
    {
      "cell_type": "markdown",
      "metadata": {
        "id": "Gzb073LRTEKT",
        "colab_type": "text"
      },
      "source": [
        "Python Program to put the even and odd elements in a list into two different lists."
      ]
    },
    {
      "cell_type": "code",
      "metadata": {
        "id": "pvWYywDbTM8D",
        "colab_type": "code",
        "colab": {
          "base_uri": "https://localhost:8080/",
          "height": 153
        },
        "outputId": "04d7546f-869e-45fd-aee3-0dada95eb92b"
      },
      "source": [
        "a=[]\n",
        "n=int(input(\"Enter number of elements:\"))\n",
        "for i in range(1,n+1):\n",
        "  b=int(input(\"Enter element:\"))\n",
        "  a.append(b)\n",
        "even=[]\n",
        "odd=[]\n",
        "for j in a:\n",
        "  if(j%2==0):\n",
        "    even.append(j)\n",
        "  else:\n",
        "    odd.append(j)\n",
        "print(\"The even list\",even)\n",
        "print(\"The odd list\",odd)"
      ],
      "execution_count": 5,
      "outputs": [
        {
          "output_type": "stream",
          "text": [
            "Enter number of elements:5\n",
            "Enter element:3\n",
            "Enter element:4\n",
            "Enter element:1\n",
            "Enter element:2\n",
            "Enter element:5\n",
            "The even list [4, 2]\n",
            "The odd list [3, 1, 5]\n"
          ],
          "name": "stdout"
        }
      ]
    },
    {
      "cell_type": "markdown",
      "metadata": {
        "id": "5hYh0l8-TfEd",
        "colab_type": "text"
      },
      "source": [
        "Python Program to merge two lists and sort it"
      ]
    },
    {
      "cell_type": "code",
      "metadata": {
        "id": "JWfmsVFhUFmw",
        "colab_type": "code",
        "colab": {
          "base_uri": "https://localhost:8080/",
          "height": 221
        },
        "outputId": "f37de3b6-8a2c-41d9-dff8-5b208e5613e9"
      },
      "source": [
        "\n",
        "a=[]\n",
        "c=[]\n",
        "n1=int(input(\"Enter number of elements:\"))\n",
        "for i in range(1,n1+1):\n",
        "  b=int(input(\"Enter element:\"))\n",
        "  a.append(b)\n",
        "n2=int(input(\"Enter number of elements:\"))\n",
        "for i in range(1,n2+1):\n",
        "  d=int(input(\"Enter element:\"))\n",
        "  c.append(d)\n",
        "new=a+c\n",
        "new.sort()\n",
        "print(\"Sorted list is:\",new)"
      ],
      "execution_count": 6,
      "outputs": [
        {
          "output_type": "stream",
          "text": [
            "Enter number of elements:5\n",
            "Enter element:1\n",
            "Enter element:2\n",
            "Enter element:3\n",
            "Enter element:4\n",
            "Enter element:5\n",
            "Enter number of elements:4\n",
            "Enter element:6\n",
            "Enter element:7\n",
            "Enter element:8\n",
            "Enter element:9\n",
            "Sorted list is: [1, 2, 3, 4, 5, 6, 7, 8, 9]\n"
          ],
          "name": "stdout"
        }
      ]
    },
    {
      "cell_type": "markdown",
      "metadata": {
        "id": "p9Nh9VqMUmqN",
        "colab_type": "text"
      },
      "source": [
        "Python Program to sort the list according to the second element in the sublist"
      ]
    },
    {
      "cell_type": "code",
      "metadata": {
        "id": "EPL17aRcUxAk",
        "colab_type": "code",
        "colab": {
          "base_uri": "https://localhost:8080/",
          "height": 34
        },
        "outputId": "d03a62ba-7c9e-4b11-b1ae-ee7060a25405"
      },
      "source": [
        "a=[['A',34],['B',21],['C',26],['E',29]]\n",
        "for i in range(0,len(a)):\n",
        "  for j in range(i+1,len(a)):\n",
        "    if(a[i][1]>a[j][1]):\n",
        "      temp=a[j]\n",
        "    a[j]=a[i]\n",
        "    a[i]=temp\n",
        "print(a)"
      ],
      "execution_count": 7,
      "outputs": [
        {
          "output_type": "stream",
          "text": [
            "[['B', 21], ['B', 21], ['B', 21], ['A', 34]]\n"
          ],
          "name": "stdout"
        }
      ]
    },
    {
      "cell_type": "markdown",
      "metadata": {
        "id": "dclW8TTtU6Eh",
        "colab_type": "text"
      },
      "source": [
        "Python Program to find the second largest number in a list using bubble sort."
      ]
    },
    {
      "cell_type": "code",
      "metadata": {
        "id": "LB4HDC1LVCmx",
        "colab_type": "code",
        "colab": {
          "base_uri": "https://localhost:8080/",
          "height": 102
        },
        "outputId": "4a1089e6-4866-44ba-8f93-a6313d46b005"
      },
      "source": [
        "a=[]\n",
        "n=int(input(\"Enter number of elements:\"))\n",
        "for i in range(1,n+1):\n",
        "  b=int(input(\"Enter element:\"))\n",
        "  a.append(b)\n",
        "for i in range(0,len(a)):\n",
        "  for j in range(0,len(a)-i-1):\n",
        "    if(a[j]>a[j+1]):\n",
        "      temp=a[j]\n",
        "    a[j]=a[j+1]\n",
        "    a[j+1]=temp \n",
        "print('Second largest number is:',a[n-2])"
      ],
      "execution_count": 11,
      "outputs": [
        {
          "output_type": "stream",
          "text": [
            "Enter number of elements:3\n",
            "Enter element:2\n",
            "Enter element:1\n",
            "Enter element:3\n",
            "Second largest number is: 2\n"
          ],
          "name": "stdout"
        }
      ]
    },
    {
      "cell_type": "markdown",
      "metadata": {
        "id": "07Aus9yiWhh0",
        "colab_type": "text"
      },
      "source": [
        "Program to create a list of tuples with the first element as the number and the second element as the square of the number."
      ]
    },
    {
      "cell_type": "code",
      "metadata": {
        "id": "sN6E7Ax3Wje7",
        "colab_type": "code",
        "colab": {
          "base_uri": "https://localhost:8080/",
          "height": 68
        },
        "outputId": "d7245131-925b-4998-c927-c207e1c53ddd"
      },
      "source": [
        "l_range=int(input(\"Enter the lower range:\"))\n",
        "u_range=int(input(\"Enter the upper range:\"))\n",
        "a=[(x,x**2) for x in range(l_range,u_range+1)]\n",
        "print(a)"
      ],
      "execution_count": 12,
      "outputs": [
        {
          "output_type": "stream",
          "text": [
            "Enter the lower range:2\n",
            "Enter the upper range:5\n",
            "[(2, 4), (3, 9), (4, 16), (5, 25)]\n"
          ],
          "name": "stdout"
        }
      ]
    },
    {
      "cell_type": "markdown",
      "metadata": {
        "id": "mX7IMrzOW_0_",
        "colab_type": "text"
      },
      "source": [
        "Python Program to generate random numbers from 1 to 20 and append them to the list."
      ]
    },
    {
      "cell_type": "code",
      "metadata": {
        "id": "yWHPiH6bXCiG",
        "colab_type": "code",
        "colab": {
          "base_uri": "https://localhost:8080/",
          "height": 51
        },
        "outputId": "1518e132-c4bd-473f-8bf8-48ac7e4f32b6"
      },
      "source": [
        "import random\n",
        "a=[]\n",
        "n=int(input(\"Enter number of elements:\"))\n",
        "for j in range(n):\n",
        "  a.append(random.randint(1,20))\n",
        "print('Randomised list is: ',a)"
      ],
      "execution_count": 13,
      "outputs": [
        {
          "output_type": "stream",
          "text": [
            "Enter number of elements:3\n",
            "Randomised list is:  [9, 3, 13]\n"
          ],
          "name": "stdout"
        }
      ]
    },
    {
      "cell_type": "markdown",
      "metadata": {
        "id": "UnUvkdcOXmBQ",
        "colab_type": "text"
      },
      "source": [
        "Tuple Examples\n",
        "\n",
        "Write python program to have a list of words to sort them from longest to shortest using list of tuples"
      ]
    },
    {
      "cell_type": "code",
      "metadata": {
        "id": "GNIi5ktJXn_U",
        "colab_type": "code",
        "colab": {
          "base_uri": "https://localhost:8080/",
          "height": 34
        },
        "outputId": "b7efcd99-0ec0-44c1-e5fd-a0eac48a82c5"
      },
      "source": [
        "txt = 'but soft what light in yonder window breaks'\n",
        "words = txt.split()\n",
        "t = list()\n",
        "for word in words:\n",
        "  t.append((len(word), word))\n",
        "  t.sort(reverse=True)\n",
        "\n",
        "res = list()\n",
        "for length, word in t:\n",
        "  res.append(word)\n",
        "\n",
        "print(res)"
      ],
      "execution_count": 14,
      "outputs": [
        {
          "output_type": "stream",
          "text": [
            "['yonder', 'window', 'breaks', 'light', 'what', 'soft', 'but', 'in']\n"
          ],
          "name": "stdout"
        }
      ]
    },
    {
      "cell_type": "markdown",
      "metadata": {
        "id": "sS19sKDWXw6z",
        "colab_type": "text"
      },
      "source": [
        "Python program that assigns variables"
      ]
    },
    {
      "cell_type": "code",
      "metadata": {
        "id": "3dTtbIsDX49J",
        "colab_type": "code",
        "colab": {
          "base_uri": "https://localhost:8080/",
          "height": 51
        },
        "outputId": "be3a7917-0e04-468e-a41a-3e2d8d28dc6f"
      },
      "source": [
        "pair = (\"dog\", \"cat\")\n",
        "(key, value) = pair\n",
        "print(key)\n",
        "print(value)"
      ],
      "execution_count": 15,
      "outputs": [
        {
          "output_type": "stream",
          "text": [
            "dog\n",
            "cat\n"
          ],
          "name": "stdout"
        }
      ]
    },
    {
      "cell_type": "markdown",
      "metadata": {
        "id": "I0r7a6qhYFkV",
        "colab_type": "text"
      },
      "source": [
        "\n",
        "Python program that searches tuples"
      ]
    },
    {
      "cell_type": "code",
      "metadata": {
        "id": "PttOPa6NYHPw",
        "colab_type": "code",
        "colab": {
          "base_uri": "https://localhost:8080/",
          "height": 51
        },
        "outputId": "d2011c65-7dd4-4ff5-bdf5-52bba60be02d"
      },
      "source": [
        "pair = (\"dog\", \"cat\")\n",
        "if \"cat\" in pair:\n",
        "  print(\"Cat found\")\n",
        "if \"bird\" not in pair:\n",
        "  print(\"Bird not found\")"
      ],
      "execution_count": 16,
      "outputs": [
        {
          "output_type": "stream",
          "text": [
            "Cat found\n",
            "Bird not found\n"
          ],
          "name": "stdout"
        }
      ]
    },
    {
      "cell_type": "code",
      "metadata": {
        "id": "VmaSRxxdVOYe",
        "colab_type": "code",
        "colab": {}
      },
      "source": [
        ""
      ],
      "execution_count": null,
      "outputs": []
    }
  ]
}