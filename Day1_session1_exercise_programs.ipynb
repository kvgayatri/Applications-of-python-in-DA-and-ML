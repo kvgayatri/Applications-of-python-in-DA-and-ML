{
  "nbformat": 4,
  "nbformat_minor": 0,
  "metadata": {
    "colab": {
      "name": "Untitled1.ipynb",
      "provenance": [],
      "collapsed_sections": [],
      "authorship_tag": "ABX9TyOqjQnA5FIqank0Zoui8KsV",
      "include_colab_link": true
    },
    "kernelspec": {
      "name": "python3",
      "display_name": "Python 3"
    }
  },
  "cells": [
    {
      "cell_type": "markdown",
      "metadata": {
        "id": "view-in-github",
        "colab_type": "text"
      },
      "source": [
        "<a href=\"https://colab.research.google.com/github/kvgayatri/Applications-of-python-in-DA-and-ML/blob/master/Day1_session1_exercise_programs.ipynb\" target=\"_parent\"><img src=\"https://colab.research.google.com/assets/colab-badge.svg\" alt=\"Open In Colab\"/></a>"
      ]
    },
    {
      "cell_type": "markdown",
      "metadata": {
        "id": "6eZSCBgjqAXC",
        "colab_type": "text"
      },
      "source": [
        "\n",
        "Find the compound interest for the given p,n,r (formula : p(1+n*r/100)n )"
      ]
    },
    {
      "cell_type": "code",
      "metadata": {
        "id": "qV_vExJZqIQp",
        "colab_type": "code",
        "outputId": "827ad3ad-46b9-4aa7-cef0-de1a6cfa9414",
        "colab": {
          "base_uri": "https://localhost:8080/",
          "height": 136
        }
      },
      "source": [
        "p = float(input(\"Enter principal : \"))\n",
        "r = float(input(\"\\nEnter rate : \"))\n",
        "n = float(input(\"\\nEnter amount : \"));    \n",
        "result = p * (1 + n*r / 100)*n\n",
        "print(\"\\nCompound interest :\", result)"
      ],
      "execution_count": 0,
      "outputs": [
        {
          "output_type": "stream",
          "text": [
            "Enter principal : 1\n",
            "\n",
            "Enter rate : 1\n",
            "\n",
            "Enter amount : 200\n",
            "\n",
            "Compound interest : 600.0\n"
          ],
          "name": "stdout"
        }
      ]
    },
    {
      "cell_type": "markdown",
      "metadata": {
        "id": "iKEvGLXQqi6z",
        "colab_type": "text"
      },
      "source": [
        "Convert centegrade to farenheit ( f= 9/5*c+32)"
      ]
    },
    {
      "cell_type": "code",
      "metadata": {
        "id": "JFOiaGOzqsyb",
        "colab_type": "code",
        "outputId": "e9600704-da3e-44b3-bdfe-31d41e09eae2",
        "colab": {
          "base_uri": "https://localhost:8080/",
          "height": 51
        }
      },
      "source": [
        "celsius = float(input(\"Enter temperature in celsius: \"))\n",
        "fahrenheit = (celsius * 9/5) + 32\n",
        "print('%.2f Celsius is: %0.2f Fahrenheit' %(celsius, fahrenheit))"
      ],
      "execution_count": 0,
      "outputs": [
        {
          "output_type": "stream",
          "text": [
            "Enter temperature in celsius: 30\n",
            "30.00 Celsius is: 86.00 Fahrenheit\n"
          ],
          "name": "stdout"
        }
      ]
    },
    {
      "cell_type": "markdown",
      "metadata": {
        "id": "5xW_CGmyq4Yn",
        "colab_type": "text"
      },
      "source": [
        "Find the greater of two nos"
      ]
    },
    {
      "cell_type": "code",
      "metadata": {
        "id": "9Z4b2u8Eq5sv",
        "colab_type": "code",
        "outputId": "2f944370-7892-4eb3-b92b-5754fd8438bd",
        "colab": {
          "base_uri": "https://localhost:8080/",
          "height": 68
        }
      },
      "source": [
        "num1=int(input(\"enter the first number:\"))\n",
        "num2=int(input(\"enter the second number:\"))\n",
        "if num1>=num2:\n",
        "  large=num1\n",
        "else:\n",
        "  large=num2\n",
        "print(\"the largest number is:\",large)"
      ],
      "execution_count": 0,
      "outputs": [
        {
          "output_type": "stream",
          "text": [
            "enter the first number:5\n",
            "enter the second number:3\n",
            "the largest number is: 5\n"
          ],
          "name": "stdout"
        }
      ]
    },
    {
      "cell_type": "markdown",
      "metadata": {
        "id": "OhDtQ6qnrG2Q",
        "colab_type": "text"
      },
      "source": [
        "Write a program for finding surface areas of cylinder and cone (2PIrrh, 1/3PIrrh) using function"
      ]
    },
    {
      "cell_type": "code",
      "metadata": {
        "id": "6TYgbV2qrLH-",
        "colab_type": "code",
        "outputId": "c48cf313-5867-4f70-9b7c-378cbee188d7",
        "colab": {
          "base_uri": "https://localhost:8080/",
          "height": 85
        }
      },
      "source": [
        "import math \n",
        "pi = math.pi \n",
        "  \n",
        "def cylinder(r, h): \n",
        "    return 2 * pi * r * r * h \n",
        "  \n",
        "def cone(r, h): \n",
        "    return (1 / 3) * pi * r * r * h \n",
        "   \n",
        "radius = float(input(\"Enter the radius: \")) \n",
        "height = float(input(\"Enter the height: \")) \n",
        "print( \"Surface area Of Cylinder : \", cylinder(radius, height) ) \n",
        "print( \"Surface Area Of Cone : \", cone(radius,height) )"
      ],
      "execution_count": 0,
      "outputs": [
        {
          "output_type": "stream",
          "text": [
            "Enter the radius: 5\n",
            "Enter the height: 8\n",
            "Surface area Of Cylinder :  1256.6370614359173\n",
            "Surface Area Of Cone :  209.43951023931953\n"
          ],
          "name": "stdout"
        }
      ]
    },
    {
      "cell_type": "markdown",
      "metadata": {
        "id": "6Wpd7VuDraki",
        "colab_type": "text"
      },
      "source": [
        "Find the greatest of four nos ( using ‘and’ operator) using function"
      ]
    },
    {
      "cell_type": "code",
      "metadata": {
        "id": "8YKWOoAnrbbR",
        "colab_type": "code",
        "outputId": "4ef2e4de-9196-43f4-9225-08dcbc3b5ea3",
        "colab": {
          "base_uri": "https://localhost:8080/",
          "height": 102
        }
      },
      "source": [
        "n1 = int(input(\"Enter 1th no.\"))\n",
        "n2 = int(input(\"Enter 2th no.\"))\n",
        "n3 = int(input(\"Enter 3th no.\"))\n",
        "n4 = int(input(\"Enter 4th no.\"))\n",
        "  \n",
        "mx = (n1 if (n1 > n2 and n1 > n3 and n1 > n4)  \n",
        "         else (n2 if (n2 > n3 and n3 > n4)  \n",
        "         else (n3 if n3 > n4 else n4))) \n",
        " \n",
        "print(\"Largest number among \" + str(n1) + \", \" + \n",
        "            str(n2) + \", \" + str(n3) + \" and \" + \n",
        "            str(n4) + \" is \" + str(mx))"
      ],
      "execution_count": 0,
      "outputs": [
        {
          "output_type": "stream",
          "text": [
            "Enter 1th no.3\n",
            "Enter 2th no.4\n",
            "Enter 3th no.2\n",
            "Enter 4th no.7\n",
            "Largest number among 3, 4, 2 and 7 is 7\n"
          ],
          "name": "stdout"
        }
      ]
    },
    {
      "cell_type": "markdown",
      "metadata": {
        "id": "ChBqw7UKrqs6",
        "colab_type": "text"
      },
      "source": [
        "Write a menu program to perform the operations ( ODDorEven, Factorial, ODDNoUptoN, PrimeUptoN ) using functions for two nos with menu choice"
      ]
    },
    {
      "cell_type": "code",
      "metadata": {
        "id": "bPWZnIAGrwL9",
        "colab_type": "code",
        "outputId": "24fe9cd7-3cbf-4868-8eb3-70a6cbb13886",
        "colab": {
          "base_uri": "https://localhost:8080/",
          "height": 1000
        }
      },
      "source": [
        "loop = 1 \n",
        "choice = 0\n",
        "def odd_even(x):\n",
        "  if x%2==0:\n",
        "    return True\n",
        "  else:\n",
        "    return False\n",
        "\n",
        "def fact(x):\n",
        "  if(x==0):\n",
        "    return 1\n",
        "  else:\n",
        "    return x*fact(x-1)\n",
        "\n",
        "def OddUpto(x):\n",
        "  for num in range(1,x+1):\n",
        "    if num % 2 != 0: \n",
        "        print(num, end = \" \")\n",
        "  print(\" \") \n",
        "  print(\" \") \n",
        "\n",
        "def PrimeUpto(x):\n",
        "  for num in range(2,x+1):\n",
        "    i = 2\n",
        "    for i in range(2, num):\n",
        "        if(num % i == 0):\n",
        "            i = num\n",
        "            break;\n",
        "    if(i != num):\n",
        "        print(num, end=\" \")\n",
        "  print(\" \") \n",
        "  print(\" \") \n",
        "\n",
        "while loop == 1:\n",
        "  print(\"Menu:\") \n",
        "  print(\"\")\n",
        "  print(\"1) Odd or Even\")\n",
        "  print(\"2) Factorial\")\n",
        "  print(\"3) Odd number Upto N\")\n",
        "  print(\"4) Prime number Upto N \")\n",
        "  print(\"5) Quit\")\n",
        "  print(\"\")\n",
        "  try:\n",
        "    choice = int(input(\"Choose your option: \"))\n",
        "  except:\n",
        "    print('please enter a valid number for option')\n",
        "    print(\"\")\n",
        "    print(\"\")\n",
        "  if choice == 1:\n",
        "    x = int(input(\"Enter a value: \"))\n",
        "    if odd_even(x):\n",
        "      print(x,\" is even\")\n",
        "    else:\n",
        "      print(x,\" is odd\")\n",
        "\n",
        "  elif choice == 2:\n",
        "    x = int(input(\"Enter a value: \"))\n",
        "    print(\"Factorial of \",x,\" is \",fact(x))\n",
        "\n",
        "  elif choice == 3:\n",
        "    x = int(input(\"Enter a value: \"))\n",
        "    print(\"Odd numbers upto \",x,\" are:\")\n",
        "    OddUpto(x)\n",
        "\n",
        "  elif choice == 4:\n",
        "    x = int(input(\"Enter a value: \"))\n",
        "    print(\"Prime numbers upto \",x,\" are:\")\n",
        "    PrimeUpto(x)\n",
        "\n",
        "  elif choice == 5:\n",
        "    loop = 0\n",
        "\n",
        "  else:\n",
        "    print(\"please choice a valid option from 1 to 5\")\n",
        "    choice=0"
      ],
      "execution_count": 0,
      "outputs": [
        {
          "output_type": "stream",
          "text": [
            "Menu:\n",
            "\n",
            "1) Odd or Even\n",
            "2) Factorial\n",
            "3) Odd number Upto N\n",
            "4) Prime number Upto N \n",
            "5) Quit\n",
            "\n",
            "Choose your option: 1\n",
            "Enter a value: 3\n",
            "3  is odd\n",
            "Menu:\n",
            "\n",
            "1) Odd or Even\n",
            "2) Factorial\n",
            "3) Odd number Upto N\n",
            "4) Prime number Upto N \n",
            "5) Quit\n",
            "\n",
            "Choose your option: 1\n",
            "Enter a value: 2\n",
            "2  is even\n",
            "Menu:\n",
            "\n",
            "1) Odd or Even\n",
            "2) Factorial\n",
            "3) Odd number Upto N\n",
            "4) Prime number Upto N \n",
            "5) Quit\n",
            "\n",
            "Choose your option: 2\n",
            "Enter a value: 4\n",
            "Factorial of  4  is  24\n",
            "Menu:\n",
            "\n",
            "1) Odd or Even\n",
            "2) Factorial\n",
            "3) Odd number Upto N\n",
            "4) Prime number Upto N \n",
            "5) Quit\n",
            "\n",
            "Choose your option: 3\n",
            "Enter a value: 9\n",
            "Odd numbers upto  9  are:\n",
            "1 3 5 7 9  \n",
            " \n",
            "Menu:\n",
            "\n",
            "1) Odd or Even\n",
            "2) Factorial\n",
            "3) Odd number Upto N\n",
            "4) Prime number Upto N \n",
            "5) Quit\n",
            "\n",
            "Choose your option: 4\n",
            "Enter a value: 9\n",
            "Prime numbers upto  9  are:\n",
            "3 5 7  \n",
            " \n",
            "Menu:\n",
            "\n",
            "1) Odd or Even\n",
            "2) Factorial\n",
            "3) Odd number Upto N\n",
            "4) Prime number Upto N \n",
            "5) Quit\n",
            "\n",
            "Choose your option: 5\n"
          ],
          "name": "stdout"
        }
      ]
    }
  ]
}